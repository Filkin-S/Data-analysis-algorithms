{
 "cells": [
  {
   "cell_type": "markdown",
   "metadata": {},
   "source": [
    "# Урок 2.  \n",
    "# Масштабирование признаков.  \n",
    "# L1- и L2-регуляризация.  \n",
    "# Стохастический градиентный спуск"
   ]
  },
  {
   "cell_type": "markdown",
   "metadata": {},
   "source": [
    "На этом уроке мы продолжим исследовать линейные модели,  \n",
    "узначем, зачем для линейных моделей нужно масштабировать признаки,  \n",
    "реализуем свою линейную регрессию с регуляризацией  \n",
    "и усовршенствуем наш алгоритм градиентного спуска, сделав его стохастическим.  \n",
    "Поехали!"
   ]
  },
  {
   "cell_type": "code",
   "execution_count": 1,
   "metadata": {
    "colab": {},
    "colab_type": "code",
    "id": "_u5bV-OlT34p"
   },
   "outputs": [],
   "source": [
    "import numpy as np\n",
    "import matplotlib.pyplot as plt"
   ]
  },
  {
   "cell_type": "code",
   "execution_count": 27,
   "metadata": {
    "colab": {},
    "colab_type": "code",
    "id": "_n6il-AZaLuA"
   },
   "outputs": [
    {
     "data": {
      "text/plain": [
       "array([[   1,    1,  500,    1],\n",
       "       [   1,    1,  700,    1],\n",
       "       [   1,    2,  750,    2],\n",
       "       [   1,    1,  600,    1],\n",
       "       [   1,    3, 1450,    2],\n",
       "       [   1,    0,  800,    1],\n",
       "       [   1,    5, 1500,    3],\n",
       "       [   1,   10, 2000,    3],\n",
       "       [   1,    1,  450,    1],\n",
       "       [   1,    2, 1000,    2]])"
      ]
     },
     "execution_count": 27,
     "metadata": {},
     "output_type": "execute_result"
    }
   ],
   "source": [
    "X = np.array([[1, 1, 1, 1, 1, 1, 1, 1, 1, 1],\n",
    "              [1, 1, 2, 1, 3, 0, 5, 10, 1, 2],\n",
    "              [500, 700, 750, 600, 1450,\n",
    "               800, 1500, 2000, 450, 1000],\n",
    "              [1, 1, 2, 1, 2, \n",
    "               1, 3, 3, 1, 2]]).T\n",
    "X"
   ]
  },
  {
   "cell_type": "code",
   "execution_count": 28,
   "metadata": {
    "colab": {},
    "colab_type": "code",
    "id": "x8yoci01ni-t"
   },
   "outputs": [
    {
     "data": {
      "text/plain": [
       "((10,), array([45, 55, 50, 59, 65, 35, 75, 80, 50, 60]))"
      ]
     },
     "execution_count": 28,
     "metadata": {},
     "output_type": "execute_result"
    }
   ],
   "source": [
    "y = np.array([45, 55, 50, 59, 65, 35, 75, 80, 50, 60])\n",
    "y.shape, y"
   ]
  },
  {
   "cell_type": "markdown",
   "metadata": {},
   "source": [
    "# Виды масштабирования признаков"
   ]
  },
  {
   "cell_type": "markdown",
   "metadata": {},
   "source": [
    "![img/normalization.png](img/normalization.png)"
   ]
  },
  {
   "cell_type": "markdown",
   "metadata": {},
   "source": [
    "### MinMaxScaler  \n",
    "\n",
    "$$\\large X_{norm} = \\frac{X – X_{min}}{X_{max}-X_{min}}$$"
   ]
  },
  {
   "cell_type": "code",
   "execution_count": 4,
   "metadata": {
    "colab": {
     "base_uri": "https://localhost:8080/",
     "height": 34
    },
    "colab_type": "code",
    "id": "Ei5qeZO_aT6m",
    "outputId": "087819d3-202a-46c9-f87d-49e17953099c"
   },
   "outputs": [
    {
     "data": {
      "text/plain": [
       "(0, 10)"
      ]
     },
     "execution_count": 4,
     "metadata": {},
     "output_type": "execute_result"
    }
   ],
   "source": [
    "X[:,1].min(), X[:,1].max()"
   ]
  },
  {
   "cell_type": "code",
   "execution_count": 5,
   "metadata": {
    "colab": {
     "base_uri": "https://localhost:8080/",
     "height": 34
    },
    "colab_type": "code",
    "id": "L7wsW1Q7b4Ts",
    "outputId": "911044d6-32c1-475a-80cd-cbaf26d5ba32"
   },
   "outputs": [
    {
     "data": {
      "text/plain": [
       "(450, 2000)"
      ]
     },
     "execution_count": 5,
     "metadata": {},
     "output_type": "execute_result"
    }
   ],
   "source": [
    "X[:,2].min(), X[:,2].max()"
   ]
  },
  {
   "cell_type": "code",
   "execution_count": 6,
   "metadata": {
    "colab": {
     "base_uri": "https://localhost:8080/",
     "height": 121
    },
    "colab_type": "code",
    "id": "E55S9Bzob9Xa",
    "outputId": "4abf56a2-d484-4c24-8520-8ed1b58ccca8"
   },
   "outputs": [
    {
     "data": {
      "text/plain": [
       "array([[1.00e+00, 1.00e+00, 5.00e+02, 1.00e+00],\n",
       "       [1.00e+00, 1.00e+00, 7.00e+02, 1.00e+00],\n",
       "       [1.00e+00, 2.00e+00, 7.50e+02, 2.00e+00],\n",
       "       [1.00e+00, 1.00e+00, 6.00e+02, 1.00e+00],\n",
       "       [1.00e+00, 3.00e+00, 1.45e+03, 2.00e+00],\n",
       "       [1.00e+00, 0.00e+00, 8.00e+02, 1.00e+00],\n",
       "       [1.00e+00, 5.00e+00, 1.50e+03, 3.00e+00],\n",
       "       [1.00e+00, 1.00e+01, 2.00e+03, 3.00e+00],\n",
       "       [1.00e+00, 1.00e+00, 4.50e+02, 1.00e+00],\n",
       "       [1.00e+00, 2.00e+00, 1.00e+03, 2.00e+00]])"
      ]
     },
     "execution_count": 6,
     "metadata": {},
     "output_type": "execute_result"
    }
   ],
   "source": [
    "X_norm = X.copy()\n",
    "X_norm = X_norm.astype(np.float64)\n",
    "X_norm"
   ]
  },
  {
   "cell_type": "code",
   "execution_count": 7,
   "metadata": {
    "colab": {
     "base_uri": "https://localhost:8080/",
     "height": 121
    },
    "colab_type": "code",
    "id": "7x-6IuPOcIo0",
    "outputId": "1668fec7-37ae-4671-ad9f-f093c30a6c72"
   },
   "outputs": [
    {
     "data": {
      "text/plain": [
       "array([[1.00e+00, 1.00e-01, 5.00e+02, 1.00e+00],\n",
       "       [1.00e+00, 1.00e-01, 7.00e+02, 1.00e+00],\n",
       "       [1.00e+00, 2.00e-01, 7.50e+02, 2.00e+00],\n",
       "       [1.00e+00, 1.00e-01, 6.00e+02, 1.00e+00],\n",
       "       [1.00e+00, 3.00e-01, 1.45e+03, 2.00e+00],\n",
       "       [1.00e+00, 0.00e+00, 8.00e+02, 1.00e+00],\n",
       "       [1.00e+00, 5.00e-01, 1.50e+03, 3.00e+00],\n",
       "       [1.00e+00, 1.00e+00, 2.00e+03, 3.00e+00],\n",
       "       [1.00e+00, 1.00e-01, 4.50e+02, 1.00e+00],\n",
       "       [1.00e+00, 2.00e-01, 1.00e+03, 2.00e+00]])"
      ]
     },
     "execution_count": 7,
     "metadata": {},
     "output_type": "execute_result"
    }
   ],
   "source": [
    "X_norm[:,1] = (X[:,1] - X[:,1].min()) / (X[:,1].max() - X[:,1].min())\n",
    "X_norm"
   ]
  },
  {
   "cell_type": "code",
   "execution_count": 8,
   "metadata": {
    "colab": {
     "base_uri": "https://localhost:8080/",
     "height": 121
    },
    "colab_type": "code",
    "id": "izkMRdXFcjyK",
    "outputId": "982b8c8d-629d-4c4a-a3d5-67854cee4a4a"
   },
   "outputs": [
    {
     "data": {
      "text/plain": [
       "array([[1.        , 0.1       , 0.03225806, 1.        ],\n",
       "       [1.        , 0.1       , 0.16129032, 1.        ],\n",
       "       [1.        , 0.2       , 0.19354839, 2.        ],\n",
       "       [1.        , 0.1       , 0.09677419, 1.        ],\n",
       "       [1.        , 0.3       , 0.64516129, 2.        ],\n",
       "       [1.        , 0.        , 0.22580645, 1.        ],\n",
       "       [1.        , 0.5       , 0.67741935, 3.        ],\n",
       "       [1.        , 1.        , 1.        , 3.        ],\n",
       "       [1.        , 0.1       , 0.        , 1.        ],\n",
       "       [1.        , 0.2       , 0.35483871, 2.        ]])"
      ]
     },
     "execution_count": 8,
     "metadata": {},
     "output_type": "execute_result"
    }
   ],
   "source": [
    "X_norm[:,2] = (X[:,2] - X[:,2].min()) / (X[:,2].max() - X[:,2].min())\n",
    "X_norm"
   ]
  },
  {
   "cell_type": "markdown",
   "metadata": {
    "colab": {},
    "colab_type": "code",
    "id": "Zy63bpFfeqzu"
   },
   "source": [
    "### Стандартизация  \n",
    "\n",
    "$$\\large X_{norm} = \\frac{X – X_{mean}}{std}$$"
   ]
  },
  {
   "cell_type": "code",
   "execution_count": 9,
   "metadata": {
    "colab": {
     "base_uri": "https://localhost:8080/",
     "height": 317
    },
    "colab_type": "code",
    "id": "8i9pB-3-fMD4",
    "outputId": "3cbe76f6-d000-4fcd-fe86-ffe853403356"
   },
   "outputs": [
    {
     "data": {
      "image/png": "[encoded data removed]",
      "text/plain": [
       "<Figure size 432x288 with 1 Axes>"
      ]
     },
     "metadata": {
      "needs_background": "light"
     },
     "output_type": "display_data"
    }
   ],
   "source": [
    "plt.hist(X[:,1]);"
   ]
  },
  {
   "cell_type": "code",
   "execution_count": 10,
   "metadata": {
    "colab": {
     "base_uri": "https://localhost:8080/",
     "height": 335
    },
    "colab_type": "code",
    "id": "-bnAYQqVfRX-",
    "outputId": "d59b0013-49bc-40fa-cb29-e71403e6e9e0"
   },
   "outputs": [
    {
     "data": {
      "image/png": "[encoded data removed]",
      "text/plain": [
       "<Figure size 432x288 with 1 Axes>"
      ]
     },
     "metadata": {
      "needs_background": "light"
     },
     "output_type": "display_data"
    }
   ],
   "source": [
    "plt.hist(X[:,2]);"
   ]
  },
  {
   "cell_type": "code",
   "execution_count": 11,
   "metadata": {
    "colab": {
     "base_uri": "https://localhost:8080/",
     "height": 34
    },
    "colab_type": "code",
    "id": "eBMYUxGBfeGs",
    "outputId": "3d6031a8-3489-4661-a4a9-62d0c94c7116"
   },
   "outputs": [
    {
     "data": {
      "text/plain": [
       "2.6"
      ]
     },
     "execution_count": 11,
     "metadata": {},
     "output_type": "execute_result"
    }
   ],
   "source": [
    "X1_mean = X[:,1].mean()\n",
    "X1_mean"
   ]
  },
  {
   "cell_type": "code",
   "execution_count": 12,
   "metadata": {
    "colab": {
     "base_uri": "https://localhost:8080/",
     "height": 34
    },
    "colab_type": "code",
    "id": "KsBCCu-Cf45z",
    "outputId": "e5c534cf-2e3c-4574-f281-3ae73c956783"
   },
   "outputs": [
    {
     "data": {
      "text/plain": [
       "2.8000000000000003"
      ]
     },
     "execution_count": 12,
     "metadata": {},
     "output_type": "execute_result"
    }
   ],
   "source": [
    "X1_std = X[:,1].std()\n",
    "X1_std"
   ]
  },
  {
   "cell_type": "code",
   "execution_count": 13,
   "metadata": {
    "colab": {},
    "colab_type": "code",
    "id": "M57-Pzl_f_rF"
   },
   "outputs": [],
   "source": [
    "X_st = X.copy().astype(np.float64)"
   ]
  },
  {
   "cell_type": "code",
   "execution_count": 14,
   "metadata": {
    "colab": {
     "base_uri": "https://localhost:8080/",
     "height": 294
    },
    "colab_type": "code",
    "id": "btJMY0YbgKLb",
    "outputId": "40010205-def9-4582-9a5d-e513e85b7a4e"
   },
   "outputs": [
    {
     "data": {
      "text/plain": [
       "array([[ 1.00000000e+00, -5.71428571e-01,  5.00000000e+02,\n",
       "         1.00000000e+00],\n",
       "       [ 1.00000000e+00, -5.71428571e-01,  7.00000000e+02,\n",
       "         1.00000000e+00],\n",
       "       [ 1.00000000e+00, -2.14285714e-01,  7.50000000e+02,\n",
       "         2.00000000e+00],\n",
       "       [ 1.00000000e+00, -5.71428571e-01,  6.00000000e+02,\n",
       "         1.00000000e+00],\n",
       "       [ 1.00000000e+00,  1.42857143e-01,  1.45000000e+03,\n",
       "         2.00000000e+00],\n",
       "       [ 1.00000000e+00, -9.28571429e-01,  8.00000000e+02,\n",
       "         1.00000000e+00],\n",
       "       [ 1.00000000e+00,  8.57142857e-01,  1.50000000e+03,\n",
       "         3.00000000e+00],\n",
       "       [ 1.00000000e+00,  2.64285714e+00,  2.00000000e+03,\n",
       "         3.00000000e+00],\n",
       "       [ 1.00000000e+00, -5.71428571e-01,  4.50000000e+02,\n",
       "         1.00000000e+00],\n",
       "       [ 1.00000000e+00, -2.14285714e-01,  1.00000000e+03,\n",
       "         2.00000000e+00]])"
      ]
     },
     "execution_count": 14,
     "metadata": {},
     "output_type": "execute_result"
    }
   ],
   "source": [
    "X_st[:,1] = (X[:,1] - X1_mean) / X1_std\n",
    "X_st"
   ]
  },
  {
   "cell_type": "code",
   "execution_count": 15,
   "metadata": {
    "colab": {
     "base_uri": "https://localhost:8080/",
     "height": 352
    },
    "colab_type": "code",
    "id": "-Y1tzWGCgYjA",
    "outputId": "89dc21fe-180f-4e68-f30f-1cf276c4f154"
   },
   "outputs": [
    {
     "data": {
      "image/png": "[encoded data removed]",
      "text/plain": [
       "<Figure size 432x288 with 1 Axes>"
      ]
     },
     "metadata": {
      "needs_background": "light"
     },
     "output_type": "display_data"
    }
   ],
   "source": [
    "plt.hist(X_st[:,1]);"
   ]
  },
  {
   "cell_type": "code",
   "execution_count": 16,
   "metadata": {
    "colab": {},
    "colab_type": "code",
    "id": "ZlJUBOyzgkJV"
   },
   "outputs": [],
   "source": [
    "def custom_StandardScaler(x):\n",
    "    res = (x - x.mean()) / x.std()\n",
    "    return res"
   ]
  },
  {
   "cell_type": "code",
   "execution_count": 17,
   "metadata": {
    "colab": {},
    "colab_type": "code",
    "id": "6PlDlFY0hGZA"
   },
   "outputs": [],
   "source": [
    "X_st[:,2] = custom_StandardScaler(X[:,2])"
   ]
  },
  {
   "cell_type": "code",
   "execution_count": 18,
   "metadata": {
    "colab": {
     "base_uri": "https://localhost:8080/",
     "height": 155
    },
    "colab_type": "code",
    "id": "LOKhmhJjt9TR",
    "outputId": "2b131d78-9066-462b-dfa9-778758f3d363"
   },
   "outputs": [
    {
     "data": {
      "text/plain": [
       "array([[ 1.        , -0.57142857, -0.97958969, -0.89625816],\n",
       "       [ 1.        , -0.57142857, -0.56713087, -0.89625816],\n",
       "       [ 1.        , -0.21428571, -0.46401617,  0.38411064],\n",
       "       [ 1.        , -0.57142857, -0.77336028, -0.89625816],\n",
       "       [ 1.        ,  0.14285714,  0.97958969,  0.38411064],\n",
       "       [ 1.        , -0.92857143, -0.36090146, -0.89625816],\n",
       "       [ 1.        ,  0.85714286,  1.08270439,  1.66447944],\n",
       "       [ 1.        ,  2.64285714,  2.11385144,  1.66447944],\n",
       "       [ 1.        , -0.57142857, -1.08270439, -0.89625816],\n",
       "       [ 1.        , -0.21428571,  0.05155735,  0.38411064]])"
      ]
     },
     "execution_count": 18,
     "metadata": {},
     "output_type": "execute_result"
    }
   ],
   "source": [
    "X_st[:,3] = custom_StandardScaler(X[:,3])\n",
    "X_st"
   ]
  },
  {
   "cell_type": "code",
   "execution_count": 19,
   "metadata": {
    "colab": {
     "base_uri": "https://localhost:8080/",
     "height": 121
    },
    "colab_type": "code",
    "id": "UwiZ4UcOhQXX",
    "outputId": "a4b1c355-12d6-49cf-f097-24af99872ab9"
   },
   "outputs": [
    {
     "data": {
      "image/png": "[encoded data removed]",
      "text/plain": [
       "<Figure size 432x288 with 1 Axes>"
      ]
     },
     "metadata": {
      "needs_background": "light"
     },
     "output_type": "display_data"
    }
   ],
   "source": [
    "plt.hist(X_st[:,1]);"
   ]
  },
  {
   "cell_type": "code",
   "execution_count": null,
   "metadata": {},
   "outputs": [],
   "source": []
  },
  {
   "cell_type": "markdown",
   "metadata": {
    "colab": {},
    "colab_type": "code",
    "id": "UdGy9tjVhZol"
   },
   "source": [
    "# SGD"
   ]
  },
  {
   "cell_type": "markdown",
   "metadata": {},
   "source": [
    "![img/lr_gradient_descent.gif](img/lr_gradient_descent.gif)"
   ]
  },
  {
   "cell_type": "markdown",
   "metadata": {},
   "source": [
    "Как нейронные сети обучаются с помощью градиентного спуска:  \n",
    "https://www.youtube.com/watch?v=IHZwWFHWa-w"
   ]
  },
  {
   "cell_type": "code",
   "execution_count": 20,
   "metadata": {
    "colab": {},
    "colab_type": "code",
    "id": "VDpN7UxYnrcS"
   },
   "outputs": [],
   "source": [
    "def calc_mse(y, y_pred):\n",
    "    err = np.mean((y - y_pred)**2)\n",
    "    return err"
   ]
  },
  {
   "cell_type": "code",
   "execution_count": 21,
   "metadata": {
    "colab": {},
    "colab_type": "code",
    "id": "SgEyis2zlJeb"
   },
   "outputs": [],
   "source": [
    "def eval_model(X, y, iterations, alpha=1e-4):\n",
    "    W = np.random.randn(X.shape[1])\n",
    "    n = X.shape[0]\n",
    "    for i in range(1, iterations+1):\n",
    "        y_pred = np.dot(X, W)\n",
    "        err = calc_mse(y, y_pred)\n",
    "        W -= (alpha * (1/n * 2 * np.dot((y_pred - y), X)))\n",
    "        if i % (iterations / 10) == 0:\n",
    "            print(f'# итерация: {i}, MSE: {err}, веса: {W}')\n",
    "    return W"
   ]
  },
  {
   "cell_type": "code",
   "execution_count": 22,
   "metadata": {
    "colab": {
     "base_uri": "https://localhost:8080/",
     "height": 207
    },
    "colab_type": "code",
    "id": "4nsYMAGjmFlB",
    "outputId": "8959a8af-3d27-42a6-afae-5db46c794fe1"
   },
   "outputs": [
    {
     "name": "stdout",
     "output_type": "stream",
     "text": [
      "# итерация: 100, MSE: 104.25270133807832, веса: [49.59793486  4.02918759  4.08963433  3.47851917]\n",
      "# итерация: 200, MSE: 41.64691159665189, веса: [56.36529359  4.41634225  3.6658251   3.55630913]\n",
      "# итерация: 300, MSE: 40.319614083283895, веса: [57.26277769  4.7218775   3.30067422  3.62060602]\n",
      "# итерация: 400, MSE: 40.140121772723, веса: [57.38180164  4.97104627  2.99477749  3.6811839 ]\n",
      "# итерация: 500, MSE: 40.028984565738305, веса: [57.39758654  5.17464147  2.73862542  3.73698596]\n",
      "# итерация: 600, MSE: 39.95224589352006, веса: [57.39967993  5.3412826   2.52418711  3.78751613]\n",
      "# итерация: 700, MSE: 39.89903836881249, веса: [57.39995755  5.47789582  2.3447135   3.83267613]\n",
      "# итерация: 800, MSE: 39.86210551926729, веса: [57.39999437  5.59006023  2.19453653  3.87262212]\n",
      "# итерация: 900, MSE: 39.83644752822442, веса: [57.39999925  5.68228045  2.06889878  3.9076641 ]\n",
      "# итерация: 1000, MSE: 39.8186099581955, веса: [57.3999999   5.7582018   1.96380917  3.93819632]\n"
     ]
    },
    {
     "data": {
      "text/plain": [
       "array([57.3999999 ,  5.7582018 ,  1.96380917,  3.93819632])"
      ]
     },
     "execution_count": 22,
     "metadata": {},
     "output_type": "execute_result"
    }
   ],
   "source": [
    "eval_model(X_st, y, iterations=1000, alpha=1e-2)"
   ]
  },
  {
   "cell_type": "code",
   "execution_count": 23,
   "metadata": {
    "colab": {},
    "colab_type": "code",
    "id": "nCcMmNdQmxDp"
   },
   "outputs": [],
   "source": [
    "def eval_sgd_model(X, y, iterations, qty_in_batch, alpha=1e-4):\n",
    "    W = np.random.randn(X.shape[1])\n",
    "    n = X.shape[0]\n",
    "    n_batch = n // qty_in_batch\n",
    "    if n % qty_in_batch != 0:\n",
    "        n_batch += 1\n",
    "    for i in range(1, iterations+1):\n",
    "        for b in range(n_batch):\n",
    "            start_ = qty_in_batch*b\n",
    "            end_ = qty_in_batch*(b+1)\n",
    "            X_tmp = X[start_ : end_, :]\n",
    "            y_tmp = y[start_ : end_]\n",
    "            y_pred_tmp = np.dot(X_tmp, W)\n",
    "            err = calc_mse(y_tmp, y_pred_tmp)\n",
    "            W -= (alpha * (1/n * 2 * np.dot((y_pred_tmp - y_tmp), X_tmp)))\n",
    "        if i % (iterations / 10) == 0:\n",
    "            print(f'# итерация: {i}, MSE: {err}, веса: {W}')\n",
    "    return W"
   ]
  },
  {
   "cell_type": "code",
   "execution_count": 24,
   "metadata": {},
   "outputs": [
    {
     "name": "stdout",
     "output_type": "stream",
     "text": [
      "# итерация: 500, MSE: 39.6021113398032, веса: [57.39600208  5.60706058  2.01877752  4.05943068]\n",
      "# итерация: 1000, MSE: 38.89392612109409, веса: [57.39801686  5.95112798  1.66715074  4.06961629]\n",
      "# итерация: 1500, MSE: 38.54845104262448, веса: [57.39787659  6.0715836   1.52160304  4.09598623]\n",
      "# итерация: 2000, MSE: 38.393342192404035, веса: [57.39782353  6.11580027  1.46184875  4.11209142]\n",
      "# итерация: 2500, MSE: 38.32660620752437, веса: [57.39780294  6.13260806  1.43743436  4.11994024]\n",
      "# итерация: 3000, MSE: 38.298582785124076, веса: [57.39779482  6.13915211  1.4274874   4.12344434]\n",
      "# итерация: 3500, MSE: 38.28697959047908, веса: [57.39779158  6.14174025  1.4234416   4.12494375]\n",
      "# итерация: 4000, MSE: 38.282214663232345, веса: [57.39779028  6.14277403  1.42179769  4.125571  ]\n",
      "# итерация: 4500, MSE: 38.28026742938799, веса: [57.39778975  6.14318951  1.42113012  4.12583008]\n",
      "# итерация: 5000, MSE: 38.279473978310165, веса: [57.39778954  6.14335711  1.42085912  4.12593631]\n"
     ]
    },
    {
     "data": {
      "text/plain": [
       "array([57.39778954,  6.14335711,  1.42085912,  4.12593631])"
      ]
     },
     "execution_count": 24,
     "metadata": {},
     "output_type": "execute_result"
    }
   ],
   "source": [
    "eval_sgd_model(X_st, y, iterations=5000, qty_in_batch=5, alpha=1e-2)"
   ]
  },
  {
   "cell_type": "markdown",
   "metadata": {},
   "source": [
    "### Регуляризация  \n",
    "\n",
    "По сути, регуляризация - это ограничение модели.  \n",
    "Для нас это, прежде всего, способ уменьшить сложность модели, чтобы предотвратить переобучение.\n",
    "Проблема: признаки могут иметь линейную (или почти линейную) зависимость.  \n",
    "Если у нас есть такие признаки, модель будет не устойчива к изменению в данных (большой variance).  \n",
    "Чтобы побороть этот эффект, модель при обучении дополнительно ограничивают, используя **регуляризацию**.\n",
    "\n",
    "Подробнее здесь:  \n",
    "https://habr.com/ru/company/ods/blog/323890/  \n",
    "и здесь:  \n",
    "https://habr.com/ru/company/ods/blog/322076/  "
   ]
  },
  {
   "cell_type": "markdown",
   "metadata": {
    "colab": {},
    "colab_type": "code",
    "id": "DYTxT_6OrZpe"
   },
   "source": [
    "L1 регуляризация"
   ]
  },
  {
   "cell_type": "markdown",
   "metadata": {
    "colab": {},
    "colab_type": "code",
    "id": "Ojkn7xKrsyiw"
   },
   "source": [
    "$$\\Large \\mathcal{L}_{reg} \\left(X, \\vec{y}, \\vec{w}\\right) = \\mathcal{L}\\left(X, \\vec{y}, \\vec{w}\\right)  + \\lambda \\sum_{j=1}^m \\left| w_j \\right|$$"
   ]
  },
  {
   "cell_type": "markdown",
   "metadata": {
    "colab": {},
    "colab_type": "code",
    "id": "j38vId7Hvtg0"
   },
   "source": [
    "L2 регуляризация"
   ]
  },
  {
   "cell_type": "markdown",
   "metadata": {
    "colab": {},
    "colab_type": "code",
    "id": "KO5BtZ7svv4k"
   },
   "source": [
    "$$\\Large \\mathcal{L}_{reg} \\left(X, \\vec{y}, \\vec{w}\\right) = \\mathcal{L}\\left(X, \\vec{y}, \\vec{w}\\right) + \\lambda \\frac{1}{2} \\sum_{j=1}^m w_j^2$$"
   ]
  },
  {
   "cell_type": "code",
   "execution_count": 25,
   "metadata": {
    "colab": {},
    "colab_type": "code",
    "id": "7AVoe1Mswjni"
   },
   "outputs": [],
   "source": [
    "def eval_model_reg2(X, y, iterations, alpha=1e-4, lambda_=1e-8):\n",
    "    np.random.seed(42)\n",
    "    W = np.random.randn(X.shape[1])\n",
    "    n = X.shape[0]\n",
    "    for i in range(1, iterations+1):\n",
    "        y_pred = np.dot(X, W)\n",
    "        err = calc_mse(y, y_pred)\n",
    "        W -= alpha * (1/n * 2 * np.dot((y_pred - y), X) + lambda_ * W) \n",
    "        if i % (iterations / 10) == 0:\n",
    "            print(f'# итерация: {i}, MSE: {err}, веса: {W}')\n",
    "    return W"
   ]
  },
  {
   "cell_type": "code",
   "execution_count": 32,
   "metadata": {
    "colab": {
     "base_uri": "https://localhost:8080/",
     "height": 207
    },
    "colab_type": "code",
    "id": "vLJL6j8Lw6OA",
    "outputId": "dac9ef42-5966-4404-9346-aeb18cca83c6"
   },
   "outputs": [
    {
     "name": "stdout",
     "output_type": "stream",
     "text": [
      "# итерация: 500, MSE: 39.98155930300685, веса: [57.39737873  5.10791641  2.46015844  4.08691915]\n",
      "# итерация: 1000, MSE: 39.80713269084298, веса: [57.39971291  5.7664642   1.85628994  4.03912497]\n",
      "# итерация: 1500, MSE: 39.782346337682085, веса: [57.399713    5.99144378  1.60442371  4.06909626]\n",
      "# итерация: 2000, MSE: 39.77849174531259, веса: [57.399713    6.07247788  1.5005237   4.0932851 ]\n",
      "# итерация: 2500, MSE: 39.77786892689035, веса: [57.399713    6.10287267  1.45793539  4.10603298]\n",
      "# итерация: 3000, MSE: 39.77776660979388, веса: [57.399713    6.11460469  1.44054386  4.1119218 ]\n",
      "# итерация: 3500, MSE: 39.77774961326131, веса: [57.399713    6.1192204   1.43345753  4.11448655]\n",
      "# итерация: 4000, MSE: 39.77774674405675, веса: [57.399713    6.12105871  1.43057395  4.11557029]\n",
      "# итерация: 4500, MSE: 39.77774624311108, веса: [57.399713    6.12179647  1.42940149  4.11602068]\n",
      "# итерация: 5000, MSE: 39.77774614918459, веса: [57.399713    6.12209394  1.42892499  4.11620609]\n"
     ]
    },
    {
     "data": {
      "text/plain": [
       "array([57.399713  ,  6.12209394,  1.42892499,  4.11620609])"
      ]
     },
     "execution_count": 32,
     "metadata": {},
     "output_type": "execute_result"
    }
   ],
   "source": [
    "eval_model_reg2(X_st, y, iterations=5000, alpha=1e-2, lambda_=1e-5)"
   ]
  },
  {
   "cell_type": "code",
   "execution_count": null,
   "metadata": {},
   "outputs": [],
   "source": []
  },
  {
   "cell_type": "markdown",
   "metadata": {},
   "source": [
    "### Домашнее задание:  \n",
    "1. Постройте график зависимости весов всех признаков от lambda в L2-регуляризации (на данных из урока).\n",
    "2. Можно ли к одному и тому же признаку применить сразу и нормализацию, и стандартизацию?  \n",
    "3. Напишите функцию наподобие eval_model_reg2, но для применения L1-регуляризации *."
   ]
  },
  {
   "cell_type": "code",
   "execution_count": 73,
   "metadata": {},
   "outputs": [
    {
     "data": {
      "image/png": "[encoded data removed]",
      "text/plain": [
       "<Figure size 864x360 with 1 Axes>"
      ]
     },
     "metadata": {
      "needs_background": "light"
     },
     "output_type": "display_data"
    }
   ],
   "source": [
    "#Слабовато видно, но ясно, что один вес с уменьшением lambda падает, а остальные растут.\n",
    "\n",
    "lambdas = np.array([1e-1, 1e-2, 1e-3, 1e-4])\n",
    "weights = np.array([[54.66666667,  5.3118901 ,  2.25660813,  3.88109191],\n",
    "                   [57.11442786,  6.0088442 ,  1.55430443,  4.08144793],\n",
    "                   [57.37131434,  6.11038803,  1.44200443,  4.11257825],\n",
    "                   [57.39713014,  6.12102515,  1.4301203 ,  4.11587451]])\n",
    "plt.figure(figsize=(12, 5))\n",
    "plt.scatter(weights[:, 0], lambdas)\n",
    "plt.scatter(weights[:, 1], lambdas)\n",
    "plt.scatter(weights[:, 2], lambdas)\n",
    "plt.scatter(weights[:, 3], lambdas)\n",
    "plt.grid()\n",
    "plt.show()\n",
    "\n"
   ]
  },
  {
   "cell_type": "markdown",
   "metadata": {},
   "source": [
    "Можно ли к одному и тому же признаку применить сразу и нормализацию, и стандартизацию?\n",
    "\n",
    "Нельзя, так как это два разных метода масштабирования принаков."
   ]
  },
  {
   "cell_type": "markdown",
   "metadata": {},
   "source": [
    "Напишите функцию наподобие eval_model_reg2, но для применения L1-регуляризации *."
   ]
  },
  {
   "cell_type": "code",
   "execution_count": 77,
   "metadata": {},
   "outputs": [],
   "source": [
    "def eval_model_reg1(X, y, iterations, alpha=1e-4, lambda_=1e-8):\n",
    "    np.random.seed(42)\n",
    "    W = np.random.randn(X.shape[1])\n",
    "    n = X.shape[0]\n",
    "    for i in range(1, iterations+1):\n",
    "        y_pred = np.dot(X, W)\n",
    "        err = calc_mse(y, y_pred)\n",
    "        W -= alpha * (1/n * 2 * np.dot((y_pred - y), X) + lambda_) \n",
    "        if i % (iterations / 10) == 0:\n",
    "            print(f'# итерация: {i}, MSE: {err}, веса: {W}')\n",
    "    return W"
   ]
  },
  {
   "cell_type": "code",
   "execution_count": 78,
   "metadata": {},
   "outputs": [
    {
     "name": "stdout",
     "output_type": "stream",
     "text": [
      "# итерация: 500, MSE: 39.98154857614476, веса: [57.3976606   5.10794092  2.46013302  4.08693606]\n",
      "# итерация: 1000, MSE: 39.80712262269251, веса: [57.3999949   5.7665295   1.85622181  4.03914431]\n",
      "# итерация: 1500, MSE: 39.78234067888447, веса: [57.399995    5.99153477  1.60432529  4.06912059]\n",
      "# итерация: 2000, MSE: 39.778489068823085, веса: [57.399995    6.07258234  1.50040761  4.09331386]\n",
      "# итерация: 2500, MSE: 39.77786772265824, веса: [57.399995    6.10298374  1.45780992  4.10606463]\n",
      "# итерация: 3000, MSE: 39.77776605703324, веса: [57.399995    6.1147189   1.4404137   4.11195505]\n",
      "# итерация: 3500, MSE: 39.77774933550096, веса: [57.399995    6.11933608  1.4333251   4.11452063]\n",
      "# итерация: 4000, MSE: 39.777746579911714, веса: [57.399995    6.12117507  1.43044046  4.11560477]\n",
      "# итерация: 4500, MSE: 39.777746125447806, веса: [57.399995    6.12191314  1.4292675   4.11605535]\n",
      "# итерация: 5000, MSE: 39.77774605045478, веса: [57.399995    6.12221075  1.42879078  4.11624085]\n"
     ]
    },
    {
     "data": {
      "text/plain": [
       "array([57.399995  ,  6.12221075,  1.42879078,  4.11624085])"
      ]
     },
     "execution_count": 78,
     "metadata": {},
     "output_type": "execute_result"
    }
   ],
   "source": [
    "eval_model_reg1(X_st, y, iterations=5000, alpha=1e-2, lambda_=1e-5)"
   ]
  },
  {
   "cell_type": "code",
   "execution_count": null,
   "metadata": {},
   "outputs": [],
   "source": []
  }
 ],
 "metadata": {
  "colab": {
   "collapsed_sections": [],
   "name": "Lesson2.ipynb",
   "provenance": []
  },
  "kernelspec": {
   "display_name": "Python 3",
   "language": "python",
   "name": "python3"
  },
  "language_info": {
   "codemirror_mode": {
    "name": "ipython",
    "version": 3
   },
   "file_extension": ".py",
   "mimetype": "text/x-python",
   "name": "python",
   "nbconvert_exporter": "python",
   "pygments_lexer": "ipython3",
   "version": "3.7.6"
  }
 },
 "nbformat": 4,
 "nbformat_minor": 1
}
